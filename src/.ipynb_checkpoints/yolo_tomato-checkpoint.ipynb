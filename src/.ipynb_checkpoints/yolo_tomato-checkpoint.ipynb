{
 "cells": [
  {
   "cell_type": "code",
   "execution_count": 1,
   "id": "c96b0d40-ddf9-4689-bb8f-95b3d9309142",
   "metadata": {},
   "outputs": [
    {
     "name": "stderr",
     "output_type": "stream",
     "text": [
      "Using cache found in C:\\Users\\RTX3070/.cache\\torch\\hub\\ultralytics_yolov5_master\n",
      "YOLOv5  2023-6-12 Python-3.10.9 torch-2.0.1+cu117 CUDA:0 (NVIDIA GeForce RTX 3070 Laptop GPU, 8192MiB)\n",
      "\n",
      "Fusing layers... \n",
      "YOLOv5m summary: 212 layers, 20852934 parameters, 0 gradients, 47.9 GFLOPs\n",
      "Adding AutoShape... \n"
     ]
    }
   ],
   "source": [
    "import torch\n",
    "from PIL import Image\n",
    "\n",
    "# モデルのロード\n",
    "model = torch.hub.load('ultralytics/yolov5', 'custom', path='./best_exp30_0612.pt').to('cuda')\n",
    "\n",
    "# 入力画像のロード\n",
    "img = Image.open('IMG_20230223_191939.jpg')  # ここに入力画像のパスを指定\n",
    "#img = Image.open('IMG_20230223_200606.jpg')  # ここに入力画像のパスを指定\n",
    "#img = Image.open('tomato2.jpg')  # ここに入力画像のパスを指定\n",
    "\n",
    "# YOLOを使って物体検出を実行\n",
    "results = model(img)\n"
   ]
  },
  {
   "cell_type": "code",
   "execution_count": 2,
   "id": "34556cf1-c082-42d7-bfda-1a749489152b",
   "metadata": {},
   "outputs": [
    {
     "data": {
      "text/plain": [
       "YOLOv5 <class 'models.common.Detections'> instance\n",
       "image 1/1: 4000x3000 (no detections)\n",
       "Speed: 133.4ms pre-process, 55.5ms inference, 1.0ms NMS per image at shape (1, 3, 640, 480)"
      ]
     },
     "execution_count": 2,
     "metadata": {},
     "output_type": "execute_result"
    }
   ],
   "source": [
    "results"
   ]
  },
  {
   "cell_type": "code",
   "execution_count": 3,
   "id": "310de666-510e-4624-95d9-8de93875ee2c",
   "metadata": {},
   "outputs": [
    {
     "data": {
      "text/plain": [
       "[tensor([], device='cuda:0', size=(0, 6))]"
      ]
     },
     "execution_count": 3,
     "metadata": {},
     "output_type": "execute_result"
    }
   ],
   "source": [
    "results.xyxy"
   ]
  },
  {
   "cell_type": "code",
   "execution_count": 4,
   "id": "46147551-d021-4843-8959-78e81f503424",
   "metadata": {},
   "outputs": [],
   "source": [
    "# # トマトを表すクラスのインデックスを取得（クラスのインデックスは訓練時に決定されます）\n",
    "# # 'tomato'は実際のクラス名に置き換えてください\n",
    "# tomato_index = results.names.index('tomato')\n"
   ]
  },
  {
   "cell_type": "code",
   "execution_count": 5,
   "id": "87fae28e-d07e-4945-a6b7-0ec12110aa21",
   "metadata": {},
   "outputs": [],
   "source": [
    "# # 検出された各オブジェクトについてループ\n",
    "# for i, (xmin, ymin, xmax, ymax, conf, class_) in enumerate(results.xyxy[0]):\n",
    "#     # クラスがトマトであるものだけを切り取り\n",
    "#     if int(class_) == tomato_index:\n",
    "#         # 画像を切り取り\n",
    "#         tomato = img.crop((int(xmin), int(ymin), int(xmax), int(ymax)))\n",
    "#         # 保存\n",
    "#         tomato.save(f'tomato_{i}.jpg')"
   ]
  },
  {
   "cell_type": "code",
   "execution_count": 6,
   "id": "4059d772-0ab4-453f-9a9d-18229217d756",
   "metadata": {},
   "outputs": [],
   "source": [
    "# 検出された各オブジェクトについてループ\n",
    "for i, (xmin, ymin, xmax, ymax, conf, class_) in enumerate(results.xyxy[0]):\n",
    "\n",
    "    # 画像を切り取り\n",
    "    tomato = img.crop((int(xmin), int(ymin), int(xmax), int(ymax)))\n",
    "    # 保存\n",
    "    tomato.save(f'tomato_{i}.jpg')"
   ]
  },
  {
   "cell_type": "code",
   "execution_count": null,
   "id": "85b3b108-a215-4a87-a050-4ae5c63acf49",
   "metadata": {},
   "outputs": [],
   "source": []
  }
 ],
 "metadata": {
  "kernelspec": {
   "display_name": "Python 3 (ipykernel)",
   "language": "python",
   "name": "python3"
  },
  "language_info": {
   "codemirror_mode": {
    "name": "ipython",
    "version": 3
   },
   "file_extension": ".py",
   "mimetype": "text/x-python",
   "name": "python",
   "nbconvert_exporter": "python",
   "pygments_lexer": "ipython3",
   "version": "3.10.9"
  }
 },
 "nbformat": 4,
 "nbformat_minor": 5
}
